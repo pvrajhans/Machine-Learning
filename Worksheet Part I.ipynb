{
 "cells": [
  {
   "cell_type": "markdown",
   "id": "d1945afa",
   "metadata": {},
   "source": [
    "# Work sheet 1(Part I)"
   ]
  },
  {
   "cell_type": "raw",
   "id": "3c173a2b",
   "metadata": {},
   "source": [
    "# 1.Write a python function which should be capable of finding the factorial of any given number as an argument. \n",
    "\n",
    "  \n",
    " "
   ]
  },
  {
   "cell_type": "code",
   "execution_count": 17,
   "id": "05472496",
   "metadata": {},
   "outputs": [],
   "source": [
    "def factorial(n):\n",
    "    fact=1\n",
    "    for i in range(1 , n+1):\n",
    "        fact=fact*i\n",
    "        \n",
    "    return(fact)\n",
    "    "
   ]
  },
  {
   "cell_type": "code",
   "execution_count": 6,
   "id": "39b6582f",
   "metadata": {},
   "outputs": [
    {
     "name": "stdout",
     "output_type": "stream",
     "text": [
      "120\n"
     ]
    }
   ],
   "source": [
    "print(factorial(5))\n"
   ]
  },
  {
   "cell_type": "raw",
   "id": "e0da81d3",
   "metadata": {},
   "source": [
    "2. Luke Skywalker has family and friends. Help him remind them who is who. Given a string with a name, return the relation of that person to Luke. \n",
    "Person Relation \n",
    "Darth Vader father \n",
    "Leia sister \n",
    "Han brother in law \n",
    "R2D2 droid \n",
    "Example : relation_to_luke(\"Darth Vader\") ➞ \"Luke, I am your father.\" "
   ]
  },
  {
   "cell_type": "code",
   "execution_count": 7,
   "id": "d5e5a2d6",
   "metadata": {},
   "outputs": [
    {
     "name": "stdout",
     "output_type": "stream",
     "text": [
      "Enter name of Relative/FriendLeia\n",
      "Luke , I am your Sister\n"
     ]
    }
   ],
   "source": [
    "def relation_to_Luke(name):\n",
    "    if(name ==\"Darth Vader\"):\n",
    "        print(\"Luke , I am your Father\")\n",
    "    elif(name==\"Leia\"):\n",
    "        print(\"Luke , I am your Sister\")\n",
    "    elif(name==\"Han\"):\n",
    "        print(\"Luke , I am your Brother in Law\")\n",
    "    elif(name==\"R2D2\"):\n",
    "        print(\"Luke , I am your droid\")\n",
    "    \n",
    "name=input(\"Enter name of Relative/Friend\")\n",
    "relation_to_Luke(name)\n"
   ]
  },
  {
   "cell_type": "raw",
   "id": "ada61e69",
   "metadata": {},
   "source": [
    "3. Create  a function which takes a number as its argument and return the number of digits in it. Use of len function is not allowed. For example for 5 it should return 1, for 32 it should return 2 and 123 , 3 should be returned and so on. "
   ]
  },
  {
   "cell_type": "code",
   "execution_count": 11,
   "id": "069f9d4e",
   "metadata": {},
   "outputs": [],
   "source": [
    "def no_of_digit(n):\n",
    "    c=0\n",
    "    while(n!=0):\n",
    "        c=c+1\n",
    "        n=int(n/10)\n",
    "    return(c)"
   ]
  },
  {
   "cell_type": "code",
   "execution_count": 15,
   "id": "b199d098",
   "metadata": {},
   "outputs": [
    {
     "data": {
      "text/plain": [
       "3"
      ]
     },
     "execution_count": 15,
     "metadata": {},
     "output_type": "execute_result"
    }
   ],
   "source": [
    "no_of_digit(123)"
   ]
  },
  {
   "cell_type": "raw",
   "id": "addd23de",
   "metadata": {},
   "source": [
    "4. Write a function which takes a number as argument suppose 5 and gives results as multiplication of factorial of each positive number less than or equal to the number given. i.e !5*!4*!3*!2*!1 = 34560."
   ]
  },
  {
   "cell_type": "code",
   "execution_count": 16,
   "id": "6cdaaec6",
   "metadata": {},
   "outputs": [],
   "source": [
    "def Fact_Multiplication(n):\n",
    "    result=1\n",
    "    while(n!=0):\n",
    "        result=result*factorial(n)\n",
    "        n=n-1\n",
    "    return(result)"
   ]
  },
  {
   "cell_type": "code",
   "execution_count": 18,
   "id": "88d0410c",
   "metadata": {},
   "outputs": [
    {
     "data": {
      "text/plain": [
       "34560"
      ]
     },
     "execution_count": 18,
     "metadata": {},
     "output_type": "execute_result"
    }
   ],
   "source": [
    "Fact_Multiplication(5)"
   ]
  },
  {
   "cell_type": "raw",
   "id": "4391fd4f",
   "metadata": {},
   "source": [
    "5. Write a function which takes any number of arguments from a user and return the result which should be output of a2 + b2+ c2+… if a , b ,c are numbers supplied ..i.e if 1,2,3 are supplied then result  returned should be 14. But user may supply any number of inputs so make the function to adapt to that. "
   ]
  },
  {
   "cell_type": "code",
   "execution_count": 31,
   "id": "c56461e5",
   "metadata": {},
   "outputs": [],
   "source": [
    "\n",
    "def print_Square_Sum():\n",
    "    c='Y'\n",
    "    result=0\n",
    "    while(c!='N'):\n",
    "    \n",
    "        a=int(input(\"Enter a Number\"))\n",
    "        result=result+(a*a)\n",
    "        c=input(\"Do you want to continue ? Y/N\")\n",
    "        \n",
    "    print(result)\n"
   ]
  },
  {
   "cell_type": "code",
   "execution_count": 33,
   "id": "de41a479",
   "metadata": {},
   "outputs": [
    {
     "name": "stdout",
     "output_type": "stream",
     "text": [
      "Enter a Number1\n",
      "Do you want to continue ? Y/NY\n",
      "Enter a Number2\n",
      "Do you want to continue ? Y/NY\n",
      "Enter a Number3\n",
      "Do you want to continue ? Y/NN\n",
      "14\n"
     ]
    }
   ],
   "source": [
    "print_Square_Sum()\n",
    "    "
   ]
  },
  {
   "cell_type": "raw",
   "id": "df0961b2",
   "metadata": {},
   "source": [
    "\n",
    "6.Write a function which accepts 3 arguments from the user.1 .number 1, 2. Number2 and 3. An operation. The operation supported should be +, -, *, and /. The function should return the result of given operation. For example arguments are 3,2,+ then result returned should be 5"
   ]
  },
  {
   "cell_type": "code",
   "execution_count": 4,
   "id": "576f72a3",
   "metadata": {},
   "outputs": [],
   "source": [
    "\n",
    "    def calculate(num1,num2,operator):\n",
    "        \n",
    "         if(operator=='+'):\n",
    "            return(num1+num2)\n",
    "         elif(operator=='-'):\n",
    "            return(num1-num2)\n",
    "         elif(operator=='*'):\n",
    "            return(num1*num2)\n",
    "         elif(operator=='/'):\n",
    "            return(num1/num2)\n",
    "      \n",
    "        \n",
    "     \n",
    "    \n"
   ]
  },
  {
   "cell_type": "code",
   "execution_count": 8,
   "id": "7bbc6f87",
   "metadata": {},
   "outputs": [
    {
     "data": {
      "text/plain": [
       "5"
      ]
     },
     "execution_count": 8,
     "metadata": {},
     "output_type": "execute_result"
    }
   ],
   "source": [
    "calculate(3,2,'+')"
   ]
  },
  {
   "cell_type": "code",
   "execution_count": null,
   "id": "82a832bd",
   "metadata": {},
   "outputs": [],
   "source": []
  }
 ],
 "metadata": {
  "kernelspec": {
   "display_name": "Python 3 (ipykernel)",
   "language": "python",
   "name": "python3"
  },
  "language_info": {
   "codemirror_mode": {
    "name": "ipython",
    "version": 3
   },
   "file_extension": ".py",
   "mimetype": "text/x-python",
   "name": "python",
   "nbconvert_exporter": "python",
   "pygments_lexer": "ipython3",
   "version": "3.9.7"
  }
 },
 "nbformat": 4,
 "nbformat_minor": 5
}
