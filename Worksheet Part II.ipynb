{
 "cells": [
  {
   "cell_type": "markdown",
   "id": "b1d66722",
   "metadata": {},
   "source": [
    "# Worksheet Part II"
   ]
  },
  {
   "cell_type": "raw",
   "id": "035ac639",
   "metadata": {},
   "source": [
    "\n",
    "7.  Write a function which takes an argument which should be a numeric +ve integer. Depending on the input supplied you have to print “I CAN”, “I WILL”. Suppose some one enters argument as 1 then only “I CAN” should be printed. But if some one enters 2 then first  “I CAN” should be printed then “I WILL”. And if someone enters 3 then following should be printed in corresponding order: “I CAN”, “I WILL”, “I CAN” and so on for any numbers entered. \n",
    "\n",
    " "
   ]
  },
  {
   "cell_type": "code",
   "execution_count": 4,
   "id": "f2390a3f",
   "metadata": {},
   "outputs": [
    {
     "name": "stdout",
     "output_type": "stream",
     "text": [
      "I CAN\n"
     ]
    }
   ],
   "source": [
    "def display(n):\n",
    "    message=[\"I CAN\",\"I WILL\"]\n",
    "    for i in range(n):\n",
    "        index=i%2\n",
    "        print(message[index])\n",
    "display(1)"
   ]
  },
  {
   "cell_type": "code",
   "execution_count": 5,
   "id": "dfd33716",
   "metadata": {},
   "outputs": [
    {
     "name": "stdout",
     "output_type": "stream",
     "text": [
      "I CAN\n",
      "I WILL\n"
     ]
    }
   ],
   "source": [
    "display(2)"
   ]
  },
  {
   "cell_type": "code",
   "execution_count": 7,
   "id": "79dc40e5",
   "metadata": {},
   "outputs": [
    {
     "name": "stdout",
     "output_type": "stream",
     "text": [
      "I CAN\n",
      "I WILL\n",
      "I CAN\n",
      "I WILL\n"
     ]
    }
   ],
   "source": [
    "display(4)"
   ]
  },
  {
   "cell_type": "raw",
   "id": "c3fa20fd",
   "metadata": {},
   "source": [
    "8. We have been given a list of whole numbers which represents the color of each gloves,  determine how many pairs of gloves with matching colors there are. For example, there are 7 gloves with colors [1, 2, 1, 2, 1, 3, 2]. There is one pair of color 1 and one of color 2. There are three odd gloves left, one of each color. The number of pairs is 2. Create a function that returns an integer representing the number of matching pairs of gloves that are available. \n",
    "\n"
   ]
  },
  {
   "cell_type": "code",
   "execution_count": 32,
   "id": "b35f9fed",
   "metadata": {},
   "outputs": [],
   "source": [
    "\n",
    "\n",
    "\n",
    "def Count_Gloves_Pairs(glist):\n",
    "    tem=[]\n",
    "    occ=[]\n",
    "    c=0\n",
    "    for i in glove_list:\n",
    "        \n",
    "        if i not in tem:\n",
    "            occ.append(glove_list.count(i))\n",
    "            tem.append(i)\n",
    "      \n",
    "    for j in occ:\n",
    "        while(j>1):\n",
    "            c=c+1\n",
    "            j=j-2\n",
    "    return(c)     \n",
    "    "
   ]
  },
  {
   "cell_type": "code",
   "execution_count": 35,
   "id": "12da87d4",
   "metadata": {},
   "outputs": [
    {
     "data": {
      "text/plain": [
       "4"
      ]
     },
     "execution_count": 35,
     "metadata": {},
     "output_type": "execute_result"
    }
   ],
   "source": [
    "glove_list=[1,2,1,2,1,3,2,3,2,2]\n",
    "Count_Gloves_Pairs(glove_list)"
   ]
  },
  {
   "cell_type": "raw",
   "id": "eca151c0",
   "metadata": {},
   "source": [
    "9. Write a function that returns True if two arrays, when combined, form a consecutive sequence. A consecutive sequence is a sequence without any gaps in the integers, e.g. 1, 2, 3, 4, 5 is a consecutive sequence, but 1, 2, 4, 5 is not. Notes \n",
    "• The input lists will have unique values. • The input lists can be in any order. \n",
    " \n",
    "Examples \n",
    "consecutive_combo([7, 4, 5, 1], [2, 3, 6]) ➞ True \n",
    " \n",
    "consecutive_combo([1, 4, 6, 5], [2, 7, 8, 9]) ➞ False \n",
    " \n",
    "consecutive_combo([1, 4, 5, 6], [2, 3, 7, 8, 10]) ➞ False \n",
    " \n",
    "consecutive_combo([44, 46], [45]) ➞ True "
   ]
  },
  {
   "cell_type": "code",
   "execution_count": 86,
   "id": "65849e00",
   "metadata": {},
   "outputs": [
    {
     "name": "stdout",
     "output_type": "stream",
     "text": [
      "7\n"
     ]
    },
    {
     "data": {
      "text/plain": [
       "True"
      ]
     },
     "execution_count": 86,
     "metadata": {},
     "output_type": "execute_result"
    }
   ],
   "source": [
    "array1=[7,4,5,1]\n",
    "array2=[2,3,6]\n",
    "\n",
    "def consecutive_combo(array1,array2):\n",
    "    add=array1+array2\n",
    "    add.sort()\n",
    "    flag=True\n",
    "    size=len(add)\n",
    "    print(size)\n",
    "    l=0\n",
    " \n",
    "    for i in add:\n",
    "        if(l<size-1):\n",
    "            if i+1 in add:\n",
    "                flag=True\n",
    "            else:\n",
    "                flag=False\n",
    "                break;\n",
    "            l=l+1\n",
    "    return(flag)  \n",
    "    \n",
    "consecutive_combo(array1,array2)"
   ]
  },
  {
   "cell_type": "code",
   "execution_count": 87,
   "id": "1708bf29",
   "metadata": {},
   "outputs": [
    {
     "name": "stdout",
     "output_type": "stream",
     "text": [
      "8\n"
     ]
    },
    {
     "data": {
      "text/plain": [
       "False"
      ]
     },
     "execution_count": 87,
     "metadata": {},
     "output_type": "execute_result"
    }
   ],
   "source": [
    "consecutive_combo([1, 4, 6, 5], [2, 7, 8, 9])\n"
   ]
  },
  {
   "cell_type": "code",
   "execution_count": 88,
   "id": "df781971",
   "metadata": {},
   "outputs": [
    {
     "name": "stdout",
     "output_type": "stream",
     "text": [
      "9\n"
     ]
    },
    {
     "data": {
      "text/plain": [
       "False"
      ]
     },
     "execution_count": 88,
     "metadata": {},
     "output_type": "execute_result"
    }
   ],
   "source": [
    "consecutive_combo([1, 4, 5, 6], [2, 3, 7, 8, 10])"
   ]
  },
  {
   "cell_type": "code",
   "execution_count": 89,
   "id": "4cfb746a",
   "metadata": {},
   "outputs": [
    {
     "name": "stdout",
     "output_type": "stream",
     "text": [
      "3\n"
     ]
    },
    {
     "data": {
      "text/plain": [
       "True"
      ]
     },
     "execution_count": 89,
     "metadata": {},
     "output_type": "execute_result"
    }
   ],
   "source": [
    "consecutive_combo([44, 46], [45])"
   ]
  },
  {
   "cell_type": "raw",
   "id": "f9dd4463",
   "metadata": {},
   "source": [
    " \n",
    "10. You work for a manufacturer, and have been asked to calculate the total profit made on the sales of a product. You are given a dictionary containing the cost price per unit (in dollars), sell price per unit (in dollars), and the starting inventory. Return the total profit made, rounded to the nearest dollar. \n",
    "Examples \n",
    "profit({   \"cost_price\": 32.67,   \"sell_price\": 45.00,   \"inventory\": 1200 }) ➞ 14796 "
   ]
  },
  {
   "cell_type": "code",
   "execution_count": null,
   "id": "ba17988a",
   "metadata": {},
   "outputs": [],
   "source": []
  },
  {
   "cell_type": "code",
   "execution_count": 16,
   "id": "c81b1bae",
   "metadata": {},
   "outputs": [],
   "source": [
    "\n",
    "\n",
    "def calculate_profit(data):\n",
    "    profit=((data[sell_price]-data[cost_price])*data[inventory])\n",
    "    return(profit)\n"
   ]
  },
  {
   "cell_type": "code",
   "execution_count": 17,
   "id": "f46b4f8d",
   "metadata": {},
   "outputs": [],
   "source": [
    "data={cost_price:32.67, sell_price:45.00, inventory:1200}"
   ]
  },
  {
   "cell_type": "code",
   "execution_count": 21,
   "id": "adfdebd6",
   "metadata": {},
   "outputs": [
    {
     "name": "stdout",
     "output_type": "stream",
     "text": [
      "14796\n"
     ]
    }
   ],
   "source": [
    "print(round(calculate_profit(data)))"
   ]
  },
  {
   "cell_type": "code",
   "execution_count": null,
   "id": "3f5af278",
   "metadata": {},
   "outputs": [],
   "source": []
  }
 ],
 "metadata": {
  "kernelspec": {
   "display_name": "Python 3 (ipykernel)",
   "language": "python",
   "name": "python3"
  },
  "language_info": {
   "codemirror_mode": {
    "name": "ipython",
    "version": 3
   },
   "file_extension": ".py",
   "mimetype": "text/x-python",
   "name": "python",
   "nbconvert_exporter": "python",
   "pygments_lexer": "ipython3",
   "version": "3.9.7"
  }
 },
 "nbformat": 4,
 "nbformat_minor": 5
}
